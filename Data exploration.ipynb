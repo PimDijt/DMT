{
 "cells": [
  {
   "cell_type": "code",
   "execution_count": 10,
   "metadata": {
    "collapsed": false,
    "deletable": true,
    "editable": true
   },
   "outputs": [
    {
     "name": "stdout",
     "output_type": "stream",
     "text": [
      "{'What programme are you in?': 'Business Analytics', 'When is your birthday (date)?': '25 december 92', 'Did you stand up?': 'no', 'What is your gender?': 'male', 'Have you taken a course on information retrieval?': '1', 'Chocolate makes you.....': 'neither', 'Have you taken a course on statistics?': 'sigma', 'Time you went to be Yesterday': '23', 'Have you taken a course on machine learning?': 'yes', 'Number of neighbors sitting around you?': '5', 'What makes a good day for you (2)?': 'Sport', 'Give a random number': '6', 'Timestamp': '4/5/2018 11:23:06', 'Have you taken a course on databases?': 'ja', 'You can get £100 if you win a local DM competition, or we don’t hold any competitions and I give everyone some money (not the same amount!). How much do you think you would get then? ': 'Not enough', 'What makes a good day for you (1)?': 'Food'}\n"
     ]
    }
   ],
   "source": [
    "import csv\n",
    "\n",
    "filename = \"data/ODI-2018.csv\"\n",
    "\n",
    "with open(filename,'r') as csvfile:\n",
    "    # Set the right quote character and delimiter\n",
    "    csv_contents = [{k: v for k, v in row.items()}\n",
    "        for row in csv.DictReader(csvfile, skipinitialspace=True, quotechar='\"', delimiter=',')]\n",
    "\n",
    "print(csv_contents[3])"
   ]
  },
  {
   "cell_type": "code",
<<<<<<< HEAD
   "execution_count": 13,
   "metadata": {},
=======
   "execution_count": 12,
   "metadata": {
    "collapsed": false,
    "deletable": true,
    "editable": true
   },
>>>>>>> testing
   "outputs": [
    {
     "name": "stdout",
     "output_type": "stream",
     "text": [
      "There are 218 records\n",
      "There are 16 attributes\n",
      "eens kijken of dit werkt\n"
     ]
    }
   ],
   "source": [
    "#records\n",
    "print(\"There are {} records\".format(len(csv_contents)))\n",
    "#attributes\n",
    "print(\"There are {} attributes\".format(len(csv_contents[0])))\n",
    "#range of values\n",
    "print(\"eens kijken of dit werkt\")\n",
    "#distribution of values\n",
    "#relationships between attributes\n",
    "#so on"
   ]
  },
  {
   "cell_type": "code",
   "execution_count": 3,
   "metadata": {
    "collapsed": false,
    "deletable": true,
    "editable": true
   },
   "outputs": [
    {
     "name": "stdout",
     "output_type": "stream",
     "text": [
      "['j', 'e', ' ', 'm', 'o', 'e', 'd', 'e', 'r']\n"
     ]
    }
   ],
   "source": [
    "#rickert\n",
    "print([x for x in \"je moeder\"])"
   ]
  },
  {
   "cell_type": "code",
   "execution_count": null,
   "metadata": {
    "collapsed": true
   },
   "outputs": [],
   "source": []
  }
 ],
 "metadata": {
  "kernelspec": {
   "display_name": "Python 3",
   "language": "python",
   "name": "python3"
  },
  "language_info": {
   "codemirror_mode": {
    "name": "ipython",
    "version": 3
   },
   "file_extension": ".py",
   "mimetype": "text/x-python",
   "name": "python",
   "nbconvert_exporter": "python",
   "pygments_lexer": "ipython3",
   "version": "3.5.1"
  }
 },
 "nbformat": 4,
 "nbformat_minor": 2
}

{
 "cells": [
  {
   "cell_type": "code",
   "execution_count": 61,
   "metadata": {},
   "outputs": [],
   "source": [
    "import csv\n",
    "import numpy as np\n",
    "\n",
    "filename = \"assignments/assignment1/data/ODI-2018_clean_relevant.csv\"\n",
    "\n",
    "with open(filename,'r') as csvfile:\n",
    "    # Set the right quote character and delimiter\n",
    "    csv_contents = [{k: v for k, v in row.items()}\n",
    "        for row in csv.DictReader(csvfile, skipinitialspace=True, quotechar='\"', delimiter=',')]\n"
   ]
  },
  {
   "cell_type": "code",
   "execution_count": 62,
   "metadata": {},
   "outputs": [],
   "source": [
    "from sklearn import tree\n",
    "from sklearn.model_selection import train_test_split\n",
    "from sklearn import preprocessing\n",
    "from sklearn.feature_extraction import DictVectorizer\n",
    "\n",
    "feature_encoder = DictVectorizer()\n",
    "target_encoder = preprocessing.LabelEncoder()\n",
    "\n",
    "\n",
    "features = []\n",
    "targets = []\n",
    "\n",
    "for row in csv_contents:\n",
    "    targets.append(row.pop('gender', None))\n",
    "    features.append(row)\n"
   ]
  },
  {
   "cell_type": "code",
   "execution_count": 63,
   "metadata": {},
   "outputs": [],
   "source": [
    "feature_to_index = dict()\n",
    "index_to_feature = dict()\n",
    "\n",
    "target_to_index = dict()\n",
    "index_to_target = dict()\n",
    "\n",
    "def map_features(features):\n",
    "    index = 0\n",
    "    for item in features:\n",
    "        for k, v in item.items():\n",
    "            unique = \"=\".join([k,v])\n",
    "            if not unique in feature_to_index:\n",
    "                feature_to_index[unique] = index\n",
    "                index_to_feature[index] = unique\n",
    "                index += 1\n",
    "                \n",
    "def map_targets(targets):\n",
    "    index = 0\n",
    "    for item in targets:\n",
    "        unique = item\n",
    "        if not unique in target_to_index:\n",
    "            target_to_index[unique] = index\n",
    "            index_to_target[index] = unique\n",
    "            index += 1\n",
    "                \n",
    "def transform_features(features):\n",
    "    size = len(feature_to_index)\n",
    "    result = []\n",
    "    for item in features:\n",
    "        feature = np.zeros(size)\n",
    "        for k, v in item.items():\n",
    "            unique = \"=\".join([k,v])\n",
    "            feature[feature_to_index[unique]] = 1\n",
    "        result.append(feature.tolist())\n",
    "    return result\n",
    "\n",
    "def transform_targets(targets):\n",
    "    result = []\n",
    "    for item in targets:\n",
    "        unique = item\n",
    "        result.append(target_to_index[unique])\n",
    "    return result\n",
    "\n",
    "map_features(features)\n",
    "map_targets(targets)\n",
    "\n",
    "transformed_features = transform_features(features)\n",
    "transformed_targets = transform_targets(targets)"
   ]
  },
  {
   "cell_type": "code",
   "execution_count": 64,
   "metadata": {},
   "outputs": [],
   "source": [
    "from sklearn import tree\n",
    "clf = tree.DecisionTreeClassifier()\n",
    "clf = clf.fit(transformed_features, transformed_targets)"
   ]
  },
  {
   "cell_type": "code",
   "execution_count": 65,
   "metadata": {},
   "outputs": [
    {
     "data": {
      "text/plain": [
       "'tree.pdf'"
      ]
     },
     "execution_count": 65,
     "metadata": {},
     "output_type": "execute_result"
    }
   ],
   "source": [
    "import graphviz \n",
    "#dot_data = tree.export_graphviz(clf, out_file=None) \n",
    "dot_data = tree.export_graphviz(clf, out_file=None, \n",
    "                         feature_names=index_to_feature,\n",
    "                   class_names=index_to_target)  \n",
    "graph = graphviz.Source(dot_data) \n",
    "graph.render(filename=\"tree\") "
   ]
  }
 ],
 "metadata": {
  "kernelspec": {
   "display_name": "Python 3",
   "language": "python",
   "name": "python3"
  },
  "language_info": {
   "codemirror_mode": {
    "name": "ipython",
    "version": 3
   },
   "file_extension": ".py",
   "mimetype": "text/x-python",
   "name": "python",
   "nbconvert_exporter": "python",
   "pygments_lexer": "ipython3",
   "version": "3.5.2"
  }
 },
 "nbformat": 4,
 "nbformat_minor": 2
}

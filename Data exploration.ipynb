{
 "cells": [
  {
   "cell_type": "code",
   "execution_count": 137,
   "metadata": {},
   "outputs": [],
   "source": [
    "import csv\n",
    "\n",
    "filename = \"data/ODI-2018.csv\"\n",
    "\n",
    "with open(filename,'r') as csvfile:\n",
    "    # Set the right quote character and delimiter\n",
    "    csv_contents = [{k: v for k, v in row.items()}\n",
    "        for row in csv.DictReader(csvfile, skipinitialspace=True, quotechar='\"', delimiter=',')]\n"
   ]
  },
  {
   "cell_type": "code",
   "execution_count": 138,
   "metadata": {},
   "outputs": [
    {
     "name": "stdout",
     "output_type": "stream",
     "text": [
      "[0 2 2 2 2 2 1 1 2 2 2 1 2 2 2 2 1 2 2 2 2 2 2 2 3 1 1 2 1 2 1 1 1 2 2 2 2\n",
      " 1 2 2 2 2 1 2 2 1 2 2 2 2 2 1 1 2 1 1 1 2 2 2 2 2 1 2 2 2 2 2 1 2 1 2 2 2\n",
      " 2 2 1 1 1 2 2 2 1 2 2 1 2 2 2 2 1 2 2 2 2 2 2 2 2 2 2 1 1 2 1 2 2 2 2 2 1\n",
      " 1 1 2 2 1 2 2 1 2 2 2 2 1 2 1 2 2 1 2 2 2 2 2 2 2 1 1 2 1 1 1 2 3 1 1 2 2\n",
      " 1 2 2 1 1 2 2 2 2 2 1 2 2 2 3 1 2 2 1 2 2 2 1 2 2 2 2 1 2 1 1 2 2 2 2 1 1\n",
      " 1 2 1 2 2 2 1 2 2 2 2 2 1 2 2 2 2 2]\n"
     ]
    }
   ],
   "source": [
    "from sklearn import tree\n",
    "from sklearn.model_selection import train_test_split\n",
    "from sklearn import preprocessing\n",
    "\n",
    "target_encoder = preprocessing.LabelEncoder()\n",
    "feature_encoder = preprocessing.LabelEncoder()\n",
    "\n",
    "\n",
    "features = []\n",
    "target = []\n",
    "\n",
    "for row in csv_contents:\n",
    "    target.append(row.pop('What is your gender?', None))\n",
    "    features.append(list(row.values()))\n",
    "    \n",
    "#features_train, features_test, target_train, target_test = train_test_split(features, target, test_size=0.33, random_state=42)\n",
    "\n",
    "\n",
    "target = target_encoder.fit_transform(target)\n",
    "\n",
    "\n",
    "\n",
    "\n",
    "\n",
    "\n",
    "#clf = tree.DecisionTreeClassifier()\n",
    "#clf.fit(features_train, target_train)"
   ]
  },
  {
   "cell_type": "code",
   "execution_count": null,
   "metadata": {},
   "outputs": [],
   "source": []
  },
  {
   "cell_type": "code",
   "execution_count": null,
   "metadata": {},
   "outputs": [],
   "source": []
  }
 ],
 "metadata": {
  "kernelspec": {
   "display_name": "Python 3",
   "language": "python",
   "name": "python3"
  },
  "language_info": {
   "codemirror_mode": {
    "name": "ipython",
    "version": 3
   },
   "file_extension": ".py",
   "mimetype": "text/x-python",
   "name": "python",
   "nbconvert_exporter": "python",
   "pygments_lexer": "ipython3",
   "version": "3.5.2"
  }
 },
 "nbformat": 4,
 "nbformat_minor": 2
}

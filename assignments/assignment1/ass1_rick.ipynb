{
 "cells": [
  {
   "cell_type": "code",
   "execution_count": 1,
   "metadata": {
    "collapsed": false
   },
   "outputs": [
    {
     "name": "stdout",
     "output_type": "stream",
     "text": [
      "{'Did you stand up?': 'no', 'Have you taken a course on databases?': 'ja', 'What is your gender?': 'male', 'Timestamp': '4/5/2018 11:23:06', 'What programme are you in?': 'Business Analytics', 'Chocolate makes you.....': 'neither', 'What makes a good day for you (1)?': 'Food', 'What makes a good day for you (2)?': 'Sport', 'You can get £100 if you win a local DM competition, or we don’t hold any competitions and I give everyone some money (not the same amount!). How much do you think you would get then? ': 'Not enough', 'Have you taken a course on information retrieval?': '1', 'Time you went to be Yesterday': '23', 'Give a random number': '6', 'When is your birthday (date)?': '25 december 92', 'Have you taken a course on machine learning?': 'yes', 'Number of neighbors sitting around you?': '5', 'Have you taken a course on statistics?': 'sigma'}\n"
     ]
    }
   ],
   "source": [
    "import csv\n",
    "\n",
    "filename = \"data/ODI-2018.csv\"\n",
    "\n",
    "with open(filename,'r') as csvfile:\n",
    "    # Set the right quote character and delimiter\n",
    "    csv_contents = [{k: v for k, v in row.items()}\n",
    "        for row in csv.DictReader(csvfile, skipinitialspace=True, quotechar='\"', delimiter=',')]\n",
    "\n",
    "print(csv_contents[3])"
   ]
  },
  {
   "cell_type": "code",
   "execution_count": 2,
   "metadata": {
    "collapsed": false
   },
   "outputs": [
    {
     "name": "stdout",
     "output_type": "stream",
     "text": [
      "There are 218 records\n",
      "There are 16 attributes\n",
      "eens kijken of dit werkt\n"
     ]
    }
   ],
   "source": [
    "#records\n",
    "print(\"There are {} records\".format(len(csv_contents)))\n",
    "#attributes\n",
    "print(\"There are {} attributes\".format(len(csv_contents[0])))\n",
    "#range of values\n",
    "print(\"eens kijken of dit werkt\")\n",
    "#distribution of values\n",
    "#relationships between attributes\n",
    "#so on"
   ]
  },
  {
   "cell_type": "code",
   "execution_count": null,
   "metadata": {
    "collapsed": true
   },
   "outputs": [],
   "source": []
  }
 ],
 "metadata": {
  "kernelspec": {
   "display_name": "Python 3",
   "language": "python",
   "name": "python3"
  },
  "language_info": {
   "codemirror_mode": {
    "name": "ipython",
    "version": 3
   },
   "file_extension": ".py",
   "mimetype": "text/x-python",
   "name": "python",
   "nbconvert_exporter": "python",
   "pygments_lexer": "ipython3",
   "version": "3.5.1"
  }
 },
 "nbformat": 4,
 "nbformat_minor": 2
}

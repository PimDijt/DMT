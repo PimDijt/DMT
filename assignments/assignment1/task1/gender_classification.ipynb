{
 "cells": [
  {
   "cell_type": "code",
   "execution_count": 1,
   "metadata": {},
   "outputs": [],
   "source": [
    "import csv\n",
    "import numpy as np\n",
    "\n",
    "filename = \"data/ODI-2018_clean_relevant.csv\"\n",
    "\n",
    "with open(filename,'r') as csvfile:\n",
    "    # Set the right quote character and delimiter\n",
    "    csv_contents = [{k: v for k, v in row.items()}\n",
    "        for row in csv.DictReader(csvfile, skipinitialspace=True, quotechar='\"', delimiter=',')]\n"
   ]
  },
  {
   "cell_type": "code",
   "execution_count": 2,
   "metadata": {},
   "outputs": [],
   "source": [
    "features = []\n",
    "targets = []\n",
    "\n",
    "for row in csv_contents:\n",
    "    targets.append(row.pop('gender', None))\n",
    "    features.append(row)\n"
   ]
  },
  {
   "cell_type": "code",
   "execution_count": 3,
   "metadata": {},
   "outputs": [],
   "source": [
    "feature_to_index = dict()\n",
    "index_to_feature = dict()\n",
    "\n",
    "target_to_index = dict()\n",
    "index_to_target = dict()\n",
    "\n",
    "def map_features(features):\n",
    "    index = 0\n",
    "    for item in features:\n",
    "        for k, v in item.items():\n",
    "            if v.replace('.','',1).isdigit():\n",
    "                if not k in feature_to_index:\n",
    "                    feature_to_index[k] = index\n",
    "                    index_to_feature[index] = k\n",
    "                    index += 1\n",
    "            else:\n",
    "                unique = \"=\".join([k,v])\n",
    "                if not unique in feature_to_index:\n",
    "                    feature_to_index[unique] = index\n",
    "                    index_to_feature[index] = unique\n",
    "                    index += 1\n",
    "                \n",
    "def map_targets(targets):\n",
    "    index = 0\n",
    "    for item in targets:\n",
    "        unique = item\n",
    "        if not unique in target_to_index:\n",
    "            target_to_index[unique] = index\n",
    "            index_to_target[index] = unique\n",
    "            index += 1\n",
    "                \n",
    "def transform_features(features):\n",
    "    size = len(feature_to_index)\n",
    "    result = []\n",
    "    for item in features:\n",
    "        feature = np.zeros(size)\n",
    "        for k, v in item.items():\n",
    "            if v.replace('.','',1).isdigit():\n",
    "                feature[feature_to_index[k]] = v\n",
    "            else:\n",
    "                unique = \"=\".join([k,v])\n",
    "                feature[feature_to_index[unique]] = 1\n",
    "        result.append(feature.tolist())\n",
    "    return result\n",
    "\n",
    "def transform_targets(targets):\n",
    "    result = []\n",
    "    for item in targets:\n",
    "        unique = item\n",
    "        result.append(target_to_index[unique])\n",
    "    return result\n",
    "\n",
    "map_features(features)\n",
    "map_targets(targets)\n",
    "\n",
    "transformed_features = transform_features(features)\n",
    "transformed_targets = transform_targets(targets)"
   ]
  },
  {
   "cell_type": "code",
   "execution_count": 24,
   "metadata": {},
   "outputs": [
    {
     "data": {
      "text/plain": [
       "GridSearchCV(cv=StratifiedKFold(n_splits=10, random_state=None, shuffle=False),\n",
       "       error_score='raise',\n",
       "       estimator=DecisionTreeClassifier(class_weight=None, criterion='gini', max_depth=None,\n",
       "            max_features=None, max_leaf_nodes=None,\n",
       "            min_impurity_decrease=0.0, min_impurity_split=None,\n",
       "            min_samples_leaf=1, min_samples_split=2,\n",
       "            min_weight_fraction_leaf=0.0, presort=False, random_state=None,\n",
       "            splitter='best'),\n",
       "       fit_params=None, iid=True, n_jobs=1,\n",
       "       param_grid={'max_depth': [1, 2, 3, 4, 5, 6, 7, 8, 9], 'min_samples_leaf': [1, 2, 3, 4, 5, 6, 7, 8, 9], 'min_samples_split': [2, 3, 4, 5, 6, 7, 8, 9], 'criterion': ('entropy', 'gini')},\n",
       "       pre_dispatch='2*n_jobs', refit=True, return_train_score=False,\n",
       "       scoring=None, verbose=0)"
      ]
     },
     "execution_count": 24,
     "metadata": {},
     "output_type": "execute_result"
    }
   ],
   "source": [
    "from sklearn import tree\n",
    "from sklearn.model_selection import KFold\n",
    "from sklearn.model_selection import GridSearchCV\n",
    "from sklearn.model_selection import StratifiedKFold\n",
    "\n",
    "parameters = {'max_depth':list(range(1, 10)), 'min_samples_leaf':list(range(1, 10)), 'min_samples_split':list(range(2,10)),'criterion': ('entropy', 'gini')}\n",
    "tree_classifier = tree.DecisionTreeClassifier()\n",
    "kf = StratifiedKFold(n_splits=10)\n",
    "clf_tree_grid = GridSearchCV(tree_classifier, parameters, cv=kf, return_train_score=False)\n",
    "clf_tree_grid.fit(transformed_features, transformed_targets)\n"
   ]
  },
  {
   "cell_type": "code",
   "execution_count": 25,
   "metadata": {
    "scrolled": true
   },
   "outputs": [
    {
     "name": "stdout",
     "output_type": "stream",
     "text": [
      "[0.80952381 0.75       0.75       0.8        0.7        0.75\n",
      " 0.7        0.9        0.68421053 0.73684211]\n",
      "Average accuracy: 0.7580576441102757\n",
      "[0.52380952 0.45       0.4        0.5        0.4        0.25\n",
      " 0.45       0.6        0.57894737 0.31578947]\n",
      "Average accuracy: 0.4468546365914787\n"
     ]
    }
   ],
   "source": [
    "from sklearn import naive_bayes\n",
    "from sklearn.model_selection import cross_validate\n",
    "\n",
    "clf_tree = clf_tree_grid.best_estimator_\n",
    "cv_results_tree = cross_validate(clf_tree, transformed_features, transformed_targets, cv=kf, return_train_score=False)\n",
    "\n",
    "clf_bayes = naive_bayes.GaussianNB()\n",
    "cv_results_bayes = cross_validate(clf_bayes, transformed_features, transformed_targets, cv=kf, return_train_score=False)\n",
    "\n",
    "print(cv_results_tree[\"test_score\"])\n",
    "print(\"Average accuracy: {}\".format(sum(cv_results_tree[\"test_score\"]) / float(len(cv_results_tree[\"test_score\"]))))\n",
    "print(cv_results_bayes[\"test_score\"])\n",
    "print(\"Average accuracy: {}\".format(sum(cv_results_bayes[\"test_score\"]) / float(len(cv_results_bayes[\"test_score\"]))))"
   ]
  },
  {
   "cell_type": "code",
   "execution_count": 26,
   "metadata": {},
   "outputs": [
    {
     "data": {
      "text/plain": [
       "'tree.pdf'"
      ]
     },
     "execution_count": 26,
     "metadata": {},
     "output_type": "execute_result"
    }
   ],
   "source": [
    "import graphviz\n",
    "dot_data = tree.export_graphviz(clf_tree, out_file=None, \n",
    "                         feature_names=index_to_feature,\n",
    "                   class_names=index_to_target,\n",
    "                               filled=True)  \n",
    "graph = graphviz.Source(dot_data) \n",
    "graph.render(filename=\"tree\") "
   ]
  },
  {
   "cell_type": "code",
   "execution_count": 27,
   "metadata": {},
   "outputs": [
    {
     "name": "stdout",
     "output_type": "stream",
     "text": [
      "DecisionTreeClassifier(class_weight=None, criterion='gini', max_depth=2,\n",
      "            max_features=None, max_leaf_nodes=None,\n",
      "            min_impurity_decrease=0.0, min_impurity_split=None,\n",
      "            min_samples_leaf=8, min_samples_split=2,\n",
      "            min_weight_fraction_leaf=0.0, presort=False, random_state=None,\n",
      "            splitter='best')\n"
     ]
    }
   ],
   "source": [
    "print(clf_tree_grid.best_estimator_)"
   ]
  },
  {
   "cell_type": "code",
   "execution_count": null,
   "metadata": {},
   "outputs": [],
   "source": []
  }
 ],
 "metadata": {
  "kernelspec": {
   "display_name": "DMT",
   "language": "python",
   "name": "dmt"
  },
  "language_info": {
   "codemirror_mode": {
    "name": "ipython",
    "version": 3
   },
   "file_extension": ".py",
   "mimetype": "text/x-python",
   "name": "python",
   "nbconvert_exporter": "python",
   "pygments_lexer": "ipython3",
   "version": "3.6.4"
  }
 },
 "nbformat": 4,
 "nbformat_minor": 2
}

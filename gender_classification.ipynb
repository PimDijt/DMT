{
 "cells": [
  {
   "cell_type": "code",
   "execution_count": 1,
   "metadata": {},
   "outputs": [],
   "source": [
    "import csv\n",
    "import numpy as np\n",
    "\n",
    "filename = \"assignments/assignment1/data/ODI-2018_clean_relevant.csv\"\n",
    "\n",
    "with open(filename,'r') as csvfile:\n",
    "    # Set the right quote character and delimiter\n",
    "    csv_contents = [{k: v for k, v in row.items()}\n",
    "        for row in csv.DictReader(csvfile, skipinitialspace=True, quotechar='\"', delimiter=',')]\n"
   ]
  },
  {
   "cell_type": "code",
   "execution_count": 2,
   "metadata": {},
   "outputs": [],
   "source": [
    "from sklearn import tree\n",
    "from sklearn.model_selection import train_test_split\n",
    "from sklearn import preprocessing\n",
    "from sklearn.feature_extraction import DictVectorizer\n",
    "\n",
    "feature_encoder = DictVectorizer()\n",
    "target_encoder = preprocessing.LabelEncoder()\n",
    "\n",
    "\n",
    "features = []\n",
    "targets = []\n",
    "\n",
    "for row in csv_contents:\n",
    "    targets.append(row.pop('gender', None))\n",
    "    features.append(row)\n"
   ]
  },
  {
   "cell_type": "code",
   "execution_count": 3,
   "metadata": {},
   "outputs": [],
   "source": [
    "feature_to_index = dict()\n",
    "index_to_feature = dict()\n",
    "\n",
    "target_to_index = dict()\n",
    "index_to_target = dict()\n",
    "\n",
    "def map_features(features):\n",
    "    index = 0\n",
    "    for item in features:\n",
    "        for k, v in item.items():\n",
    "            unique = \"=\".join([k,v])\n",
    "            if not unique in feature_to_index:\n",
    "                feature_to_index[unique] = index\n",
    "                index_to_feature[index] = unique\n",
    "                index += 1\n",
    "                \n",
    "def map_targets(targets):\n",
    "    index = 0\n",
    "    for item in targets:\n",
    "        unique = item\n",
    "        if not unique in target_to_index:\n",
    "            target_to_index[unique] = index\n",
    "            index_to_target[index] = unique\n",
    "            index += 1\n",
    "                \n",
    "def transform_features(features):\n",
    "    size = len(feature_to_index)\n",
    "    result = []\n",
    "    for item in features:\n",
    "        feature = np.zeros(size)\n",
    "        for k, v in item.items():\n",
    "            unique = \"=\".join([k,v])\n",
    "            feature[feature_to_index[unique]] = 1\n",
    "        result.append(feature.tolist())\n",
    "    return result\n",
    "\n",
    "def transform_targets(targets):\n",
    "    result = []\n",
    "    for item in targets:\n",
    "        unique = item\n",
    "        result.append(target_to_index[unique])\n",
    "    return result\n",
    "\n",
    "map_features(features)\n",
    "map_targets(targets)\n",
    "\n",
    "transformed_features = transform_features(features)\n",
    "transformed_targets = transform_targets(targets)"
   ]
  },
  {
   "cell_type": "code",
   "execution_count": 55,
   "metadata": {},
   "outputs": [
    {
     "name": "stdout",
     "output_type": "stream",
     "text": [
      "Accuracy of Tree: 0.67 (+/- 0.02), depth: 1, leaf: 1, n: 100\n",
      "Accuracy of Tree: 0.68 (+/- 0.08), depth: 3, leaf: 1, n: 100\n",
      "Accuracy of Tree: 0.68 (+/- 0.06), depth: 3, leaf: 2, n: 100\n",
      "Accuracy of Tree: 0.68 (+/- 0.06), depth: 5, leaf: 3, n: 100\n",
      "Accuracy of Tree: 0.70 (+/- 0.06), depth: 5, leaf: 4, n: 100\n",
      "0.6978343576236465\n"
     ]
    }
   ],
   "source": [
    "from sklearn import tree\n",
    "from sklearn.model_selection import cross_val_score\n",
    "\n",
    "_max = 0\n",
    "for i in range(9):\n",
    "    for j in range(9):\n",
    "        clf = tree.DecisionTreeClassifier(max_depth=i+1, min_samples_leaf=j+1)\n",
    "            \n",
    "        scores = cross_val_score(clf, transformed_features, transformed_targets, cv=3)\n",
    "        if scores.mean() > _max:\n",
    "            print(\"Accuracy of Tree: %0.2f (+/- %0.2f), depth: %d, leaf: %d, n: %d\" % (scores.mean(), scores.std() * 2, i+1, j+1, k+1))\n",
    "            _max = scores.mean()\n",
    "\n",
    "#depth = 5, leaf = 4 best\n",
    "clf = tree.DecisionTreeClassifier(max_depth=5, min_samples_leaf=4)\n",
    "clf.fit(transformed_features, transformed_targets)"
   ]
  },
  {
   "cell_type": "code",
   "execution_count": 41,
   "metadata": {},
   "outputs": [
    {
     "data": {
      "text/plain": [
       "'tree.pdf'"
      ]
     },
     "execution_count": 41,
     "metadata": {},
     "output_type": "execute_result"
    }
   ],
   "source": [
    "import graphviz \n",
    "#dot_data = tree.export_graphviz(clf, out_file=None) \n",
    "dot_data = tree.export_graphviz(clf, out_file=None, \n",
    "                         feature_names=index_to_feature,\n",
    "                   class_names=index_to_target,\n",
    "                               filled=True)  \n",
    "graph = graphviz.Source(dot_data) \n",
    "graph.render(filename=\"tree\") "
   ]
  },
  {
   "cell_type": "code",
   "execution_count": null,
   "metadata": {},
   "outputs": [],
   "source": []
  }
 ],
 "metadata": {
  "kernelspec": {
   "display_name": "Python 3",
   "language": "python",
   "name": "python3"
  },
  "language_info": {
   "codemirror_mode": {
    "name": "ipython",
    "version": 3
   },
   "file_extension": ".py",
   "mimetype": "text/x-python",
   "name": "python",
   "nbconvert_exporter": "python",
   "pygments_lexer": "ipython3",
   "version": "3.5.2"
  }
 },
 "nbformat": 4,
 "nbformat_minor": 2
}
